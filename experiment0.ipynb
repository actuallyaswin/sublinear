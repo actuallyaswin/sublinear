{
 "cells": [
  {
   "cell_type": "code",
   "execution_count": 2,
   "metadata": {},
   "outputs": [
    {
     "name": "stderr",
     "output_type": "stream",
     "text": [
      "/usr/local/lib/python3.7/site-packages/sklearn/feature_extraction/text.py:17: DeprecationWarning: Using or importing the ABCs from 'collections' instead of from 'collections.abc' is deprecated, and in 3.8 it will stop working\n",
      "  from collections import Mapping, defaultdict\n"
     ]
    }
   ],
   "source": [
    "import os\n",
    "import math\n",
    "import pathlib\n",
    "\n",
    "import numpy as np\n",
    "import matplotlib.pyplot as plt\n",
    "import librosa as lb\n",
    "\n",
    "import torch\n",
    "\n",
    "plt.style.use('default')"
   ]
  },
  {
   "cell_type": "code",
   "execution_count": 12,
   "metadata": {},
   "outputs": [],
   "source": [
    "class SubLinear(torch.nn.Linear):\n",
    "    #\n",
    "    def __init__(self, in_features, out_features, sr=44100, bias=True):\n",
    "        super(SubLinear, self).__init__(in_features, out_features, bias=bias)\n",
    "        self.in_features = in_features\n",
    "        self.out_features = out_features\n",
    "        self.sample_rate = sr\n",
    "        if (out_features > in_features):\n",
    "            mfb = lb.filters.mel(n_fft=((out_features-1)*2),\n",
    "                                 n_mels=in_features,\n",
    "                                 sr=self.sample_rate)\n",
    "            self.filterbank = lb.util.nnls(mfb, np.eye(in_features))\n",
    "        else:\n",
    "            self.filterbank = lb.filters.mel(n_fft=((in_features-1)*2),\n",
    "                                             n_mels=out_features,\n",
    "                                             sr=self.sample_rate)\n",
    "        self.filterbank = torch.from_numpy(self.filterbank)"
   ]
  },
  {
   "cell_type": "code",
   "execution_count": 13,
   "metadata": {},
   "outputs": [],
   "source": [
    "class Denoiser(torch.nn.Module):\n",
    "    #\n",
    "    def __init__(self):\n",
    "        super(Denoiser, self).__init__()\n",
    "        self.network = torch.nn.Sequential(\n",
    "            torch.nn.Linear(513, 40),\n",
    "            torch.nn.ReLU(),\n",
    "            torch.nn.Linear(40, 40),\n",
    "            torch.nn.ReLU(),\n",
    "            torch.nn.Linear(40, 514),\n",
    "            torch.nn.ReLU(),\n",
    "        )\n",
    "    #\n",
    "    def forward(self, x):\n",
    "        x = self.network(x)\n",
    "        return x        "
   ]
  },
  {
   "cell_type": "code",
   "execution_count": 14,
   "metadata": {},
   "outputs": [],
   "source": [
    "class LogarithmicDenoiser(torch.nn.Module):\n",
    "    #\n",
    "    def __init__(self):\n",
    "        super(LogarithmicDenoiser, self).__init__()\n",
    "        self.network = torch.nn.Sequential(\n",
    "            SubLinear(513, 40),\n",
    "            torch.nn.ReLU(),\n",
    "            torch.nn.Linear(40, 40),\n",
    "            torch.nn.ReLU(),\n",
    "            SubLinear(40, 514),\n",
    "            torch.nn.ReLU(),\n",
    "        )\n",
    "    #\n",
    "    def forward(self, x):\n",
    "        x = self.network(x)\n",
    "        return x        "
   ]
  },
  {
   "cell_type": "code",
   "execution_count": 37,
   "metadata": {},
   "outputs": [],
   "source": [
    "net1 = Denoiser()\n",
    "net2 = LogarithmicDenoiser()\n",
    "\n",
    "def cross_entropy(o, t):\n",
    "    eps = 1e-30\n",
    "    return ((-t*torch.log(o+eps))-((1-t)*torch.log(1-o+eps))).sum()\n",
    "\n",
    "def calculate_snr(s, r):\n",
    "    eps = 1e-30\n",
    "    return (10*np.log10(np.sum(s**2)/(np.sum((s-r)**2)+eps)+eps))\n",
    "\n",
    "def regularize(network):\n",
    "    f = torch.nn.SmoothL1Loss(reduction='mean')\n",
    "    r = []\n",
    "    for layer in network.modules():\n",
    "        if isinstance(layer, SubLinear):\n",
    "            x = layer.weight\n",
    "            m = layer.filterbank\n",
    "            x_w = x.sum(axis=0)/(x.sum(axis=0)).max()\n",
    "            m_w = m.sum(axis=0)/(m.sum(axis=0)).max()\n",
    "            loss = f(x_w, m_w)\n",
    "            r.append(loss)\n",
    "    return sum(r)"
   ]
  },
  {
   "cell_type": "code",
   "execution_count": null,
   "metadata": {},
   "outputs": [],
   "source": [
    "trS = np.load(str(pathlib.Path('~/Datasets/timit/trS.npy').expanduser()))"
   ]
  },
  {
   "cell_type": "code",
   "execution_count": null,
   "metadata": {},
   "outputs": [],
   "source": [
    "trS.shape"
   ]
  },
  {
   "cell_type": "code",
   "execution_count": null,
   "metadata": {},
   "outputs": [],
   "source": []
  }
 ],
 "metadata": {
  "kernelspec": {
   "display_name": "Python 3",
   "language": "python",
   "name": "python3"
  },
  "language_info": {
   "codemirror_mode": {
    "name": "ipython",
    "version": 3
   },
   "file_extension": ".py",
   "mimetype": "text/x-python",
   "name": "python",
   "nbconvert_exporter": "python",
   "pygments_lexer": "ipython3",
   "version": "3.7.4"
  }
 },
 "nbformat": 4,
 "nbformat_minor": 2
}

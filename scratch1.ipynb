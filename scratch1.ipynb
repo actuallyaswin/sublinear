{
 "cells": [
  {
   "cell_type": "code",
   "execution_count": 3,
   "metadata": {},
   "outputs": [],
   "source": [
    "import librosa\n",
    "import math\n",
    "import matplotlib.pyplot as plt\n",
    "import numpy as np\n",
    "import torch\n",
    "import torch.nn as nn\n",
    "import torch.nn.functional as F\n",
    "import pathlib\n",
    "\n",
    "plt.style.use('default')"
   ]
  },
  {
   "cell_type": "code",
   "execution_count": 2,
   "metadata": {},
   "outputs": [],
   "source": [
    "class SubLinear(nn.Module):\n",
    "    #\n",
    "    def __init__(self, in_features, out_features, bias=True):\n",
    "        super(SubLinear, self).__init__()\n",
    "        self.in_features = in_features\n",
    "        self.out_features = out_features\n",
    "        self.mapping = self.compute_mapping()\n",
    "        self.weight = nn.ParameterList([\n",
    "            nn.Parameter(torch.Tensor(1, r)) for r in self.mapping[1]\n",
    "        ])\n",
    "        self.bias = nn.ParameterList([\n",
    "            nn.Parameter(torch.Tensor(1)) if bias else None for _ in self.mapping[1]\n",
    "        ])\n",
    "        self.reset_parameters()\n",
    "    #\n",
    "    def compute_mapping(self):\n",
    "        coeffs = [1]*self.out_features + [-self.in_features]\n",
    "        k = np.roots(coeffs).real[-1]\n",
    "        in_ranges = np.power(k, np.arange(1,self.out_features+1))\n",
    "        in_ranges = np.round(in_ranges).astype(int)\n",
    "        in_ranges[-1] += self.in_features - sum(in_ranges)\n",
    "        in_indices = np.zeros(self.out_features)\n",
    "        in_indices[1:] = np.cumsum(in_ranges)[:-1]\n",
    "        in_indices = np.round(in_indices).astype(int)\n",
    "        out_indices = np.arange(self.out_features)\n",
    "        return (list(in_indices), list(in_ranges), list(out_indices))\n",
    "    #\n",
    "    def reset_parameters(self):\n",
    "        for i in range(self.out_features):\n",
    "            nn.init.kaiming_uniform_(self.weight[i], a=math.sqrt(5))\n",
    "            if self.bias is not None:\n",
    "                fan_in, _ = nn.init._calculate_fan_in_and_fan_out(self.weight[i])\n",
    "                bound = 1 / math.sqrt(fan_in)\n",
    "                nn.init.uniform_(self.bias[i], -bound, bound)\n",
    "    #\n",
    "    def forward(self, x):\n",
    "        o = torch.Tensor((self.out_features))\n",
    "        for (in_index, in_range, out_index) in zip(*self.mapping):\n",
    "            i = x[..., in_index:in_index+in_range]\n",
    "            o[out_index] = F.linear(i, self.weight[out_index], self.bias[out_index])\n",
    "        return o"
   ]
  }
 ],
 "metadata": {
  "kernelspec": {
   "display_name": "Python 3",
   "language": "python",
   "name": "python3"
  },
  "language_info": {
   "codemirror_mode": {
    "name": "ipython",
    "version": 3
   },
   "file_extension": ".py",
   "mimetype": "text/x-python",
   "name": "python",
   "nbconvert_exporter": "python",
   "pygments_lexer": "ipython3",
   "version": "3.7.4"
  }
 },
 "nbformat": 4,
 "nbformat_minor": 4
}
